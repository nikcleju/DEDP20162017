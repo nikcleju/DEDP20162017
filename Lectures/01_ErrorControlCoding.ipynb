{
 "cells": [
  {
   "cell_type": "markdown",
   "metadata": {
    "slideshow": {
     "slide_type": "slide"
    }
   },
   "source": [
    "## I.   Error control coding"
   ]
  },
  {
   "cell_type": "markdown",
   "metadata": {
    "slideshow": {
     "slide_type": "slide"
    }
   },
   "source": [
    "### What is error control coding?\n",
    "\n",
    "![Communication system](img/CommBlockDiagram.png)\n",
    "\n",
    "* The second main task of coding: **error control **\n",
    "* Protect information against channel errors"
   ]
  },
  {
   "cell_type": "markdown",
   "metadata": {
    "slideshow": {
     "slide_type": "slide"
    }
   },
   "source": [
    "### Mutual information and error control\n",
    "\n",
    "* Mutual information $I(X,Y)$ = the information transmitted on the channel\n",
    "\n",
    "* Even though there is information transmitted on the channel, when the channel is noisy the information is **not enough** \n",
    "\n",
    "Example: consider the following BSC channel (p = 0.01, $p(x_1) = 0.5$, $p(x_2)=0.5$):\n",
    "\n",
    "![Binary symmetric channel (BSC) ](img/BSC.png)\n",
    "\n",
    "* The receiver would like to know the source messages \n",
    "    * In absence of communication, the uncertainty is $H(X) = 1$ bit/msg\n",
    "    * With communication, the uncertainty is $H(X|Y) \\approx 0.081$ bit/msg\n",
    "    * $I(X,Y) = H(X) - H(X|Y) = \\approx 0.919$ bit/msg\n",
    "* Even though we have large I(X,Y), about $1\\%$ of all bits are erroneuos\n",
    "    * Imagine downloading a file, but having $1\\%$ wrong bits    "
   ]
  },
  {
   "cell_type": "markdown",
   "metadata": {
    "slideshow": {
     "slide_type": "slide"
    }
   },
   "source": [
    "###  Why is error control needed?\n",
    "\n",
    "* In most communications it is required that *all* bits are received correctly\n",
    "    * Not $1\\%$ errors, not $0.1\\%$, not $0.0001\\%$. **None!**\n",
    "\n",
    "* But that is not possible unless the channel is ideal.\n",
    "\n",
    "* So what do to? **Error control coding**"
   ]
  },
  {
   "cell_type": "markdown",
   "metadata": {
    "slideshow": {
     "slide_type": "slide"
    }
   },
   "source": [
    "### Modelling the errors on the channel\n",
    "* We consider only binary channels (symbols = $\\left\\lbrace 0,1 \\right\\rbrace$)\n",
    "* An error = a bit is changed from 0 to 1 or viceversa\n",
    "* Changing the value of a bit = modulo-2 sum with 1\n",
    "* Value of a bit remains the same = modulo-2 sum with 0\n",
    "    \n",
    "![Channel error model](img/ChannelErrorModel.png)\n",
    "\n",
    "* Channel model we use (simple):\n",
    "    * The transmitted sequence is summed modulo-2 with an **error sequence**\n",
    "    * Where the error sequence is 1, there is a bit error\n",
    "    * Where the error sequence is 0, there is no error\n",
    "$$\\mathbf{r} = \\mathbf{c} \\oplus \\mathbf{e}$$"
   ]
  },
  {
   "cell_type": "markdown",
   "metadata": {
    "slideshow": {
     "slide_type": "slide"
    }
   },
   "source": [
    "### Error detection and error correction\n",
    "\n",
    "Binary error correction:\n",
    "\n",
    "* For binary channels, know the location of error => fix error by inverting bit\n",
    "* Locating error = correcting error\n",
    "\n",
    "Two possibilities in practice:\n",
    "\n",
    "* **Error detection**: find out if there is any error in the received sequence\n",
    "    * don't know exactly where, so cannot correct the bits, but can discard whole sequence\n",
    "    * perhaps ask the sender to retransmit (examples: TCP/IP, internet communication etc)\n",
    "    * easier to do\n",
    "* **Error correction**: find out exactly which bits have errors, if any\n",
    "    * can correct all errored bits by inverting them\n",
    "    * useful when can't retransmit (data is stored: on HDD, AudioCD etc.)\n",
    "    * harder to do than mere detection"
   ]
  },
  {
   "cell_type": "markdown",
   "metadata": {
    "slideshow": {
     "slide_type": "slide"
    }
   },
   "source": [
    "### What is error control coding?\n",
    "\n",
    "The process of error control:\n",
    "\n",
    "1. Want to send a sequence of $k$ bits = **information word**\n",
    "$$\\mathbf{i} = i_1i_2...i_k$$\n",
    "\n",
    "2. For each possible information word, the coder assigns a **codeword** of length $n > k$:\n",
    "$$\\mathbf{c} = c_1c_2...c_n$$\n",
    "\n",
    "3. The codeword is sent on the channel instead of the original information word\n",
    "\n",
    "4. The receiver receives a sequence $\\mathbf{r} = \\mathbf{c} + \\mathbf{e}$, with possible errors:\n",
    "$$\\mathbf{r} = r_1 r_2 ... r_n$$\n",
    "\n",
    "5. The decoding algorithm detects/corrects the errors in $\\mathbf{r}$"
   ]
  },
  {
   "cell_type": "markdown",
   "metadata": {
    "slideshow": {
     "slide_type": "slide"
    }
   },
   "source": [
    "### Definitions\n",
    "\n",
    "* An **error correcting code** is an association between the set of all possible information words to a set of codewords\n",
    "    * Each possible information word $\\mathbf{i}$ has a certain codeword $\\mathbf{c}$\n",
    "* The association can be done:\n",
    "    * randomly: codewords are selected and associated randomly to the information words\n",
    "    * based on a certain rule: the codeword is computed with some algorithm from the information word\n",
    "\n",
    "* A code is a **block code** if it operates with words of *fixed size*\n",
    "    * Size of information word $\\mathbf{i} = k$, size of codeword $\\mathbf{c} = n$, $n > k$\n",
    "    * Otherwise it is a *non-block code*\n",
    "    \n",
    "* A code is **linear** if any linear combination of codewords is also a codeword\n",
    "\n",
    "* The **coding rate** of a code is:\n",
    "$$R = \\frac{k}{n}$$"
   ]
  },
  {
   "cell_type": "markdown",
   "metadata": {
    "slideshow": {
     "slide_type": "slide"
    }
   },
   "source": [
    "### Definitions\n",
    "\n",
    "* A code $C$ is an **$t$-error-detecting** code if it is able to *detect* $t$ errors\n",
    "\n",
    "* A code $C$ is an **$t$-error-correcting** code if it is able to *correct* $t$ errors\n"
   ]
  },
  {
   "cell_type": "markdown",
   "metadata": {
    "slideshow": {
     "slide_type": "slide"
    }
   },
   "source": [
    "### Hamming distance\n",
    "\n",
    "* The **Hamming distance** of two binary sequences $a$, $b$ of length $n$ = the total number\n",
    "of bit differences between them\n",
    "$$d_H(a, b) = \\sum_{i=1}^N a_i \\bigoplus b_i$$\n",
    "\n",
    "* We need at least $d_H(a, b)$ bit changes to convert one sequence into another\n",
    "\n",
    "* It satisfies the 3 properties of a metric function:\n",
    "    1. $d(a,b) \\geq 0 \\forall a,b$, with $d(a,b) = 0 \\Leftrightarrow a = b$\n",
    "    2. $d(a,b) = d(b,a), \\forall a,b$\n",
    "    3. $d(a,c) \\leq d(a,b) + d(b,c), \\forall a,b,c$\n",
    "\n",
    "* The **minimum Hamming distance of a code**, ${d_H}_{min}$ = the minimum Hamming distance\n",
    "between any two codewords $\\mathbf{c_1}$ and $\\mathbf{c_2}$\n",
    "\n",
    "* Example at blackboard\n"
   ]
  },
  {
   "cell_type": "markdown",
   "metadata": {
    "slideshow": {
     "slide_type": "slide"
    }
   },
   "source": [
    "### Linear block codes\n",
    "\n",
    "* A code is a **block code** if it operates with words of *fixed size*\n",
    "    * Size of information word $\\mathbf{i} = k$, size of codeword $\\mathbf{c} = n$, $n > k$\n",
    "    * Otherwise it is a *non-block code*\n",
    "    \n",
    "* A code is **linear** if any linear combination of codewords is also a codeword\n",
    "\n",
    "* A code is called **systematic** if the codeword contains all the information bits explicitly, unaltered\n",
    "    * coding merely adds supplementary bits besides the information bits\n",
    "    * codeword has two parts: the information bits and the parity bits\n",
    "    * example: parity bit added after the information bits\n",
    "    \n",
    "* Otherwise the code is called **non-systematic**\n",
    "    * the information bits are not explicitly visible in the codeword\n",
    "\n",
    "* Example: at blackboard"
   ]
  },
  {
   "cell_type": "markdown",
   "metadata": {
    "slideshow": {
     "slide_type": "slide"
    }
   },
   "source": [
    "### Generator matrix \n",
    "\n",
    "* All codewords for a linear block code can be generated via a matrix multiplication:\n",
    "$$\\mathbf{i} \\cdot [G] = \\mathbf{c}$$\n",
    "\n",
    "![Codeword construction with generator matrix](img/GeneratorMatrix.png)\n",
    "\n",
    "* $[G]$ = **generator matrix** of size $k \\times n$\n",
    "\n",
    "* All operations are done in modulo-2 arithmetic:\n",
    "    * $0 \\oplus 0 = 0$, $0 \\oplus 1 = 1$, $1 \\oplus 0 = 1$, $1 \\oplus 1 = 0$\n",
    "    * multiplications as usual\n",
    "    \n",
    "* Row-wise interpretation:\n",
    "    * $\\mathbf{c}$ = a linear combination of rows in $[G]$\n",
    "    * The rows of $[G]$ = a *basis* for the linear code"
   ]
  },
  {
   "cell_type": "markdown",
   "metadata": {
    "slideshow": {
     "slide_type": "slide"
    }
   },
   "source": [
    "### Parity check matrix\n",
    "\n",
    "* How to check if a binary word is a codeword or not\n",
    "* Every $k \\times n$ generator matrix $[G]$ has complementary matrix $[H]$ such that\n",
    "$$0 = [H] \\cdot [G]^T$$\n",
    "\n",
    "* For every codeword $\\mathbf{c}$ generated with $[G]$:\n",
    "$$\\boxed{ 0 = [H] \\cdot \\mathbf{c}^T }$$\n",
    "\n",
    "* because:\n",
    "$$\\mathbf{i} \\cdot [G] = \\mathbf{c}$$\n",
    "$$[G]^T \\cdot \\mathbf{i}^T = \\mathbf{c}^T$$\n",
    "$$[H] \\cdot \\mathbf{c}^T = [H] \\cdot [G]^T \\cdot \\mathbf{i}^T = 0$$"
   ]
  },
  {
   "cell_type": "markdown",
   "metadata": {
    "slideshow": {
     "slide_type": "slide"
    }
   },
   "source": [
    "### Parity check matrix\n",
    "\n",
    "* $[H]$ is the **parity-check matrix**, size = $(n-k) \\times n$\n",
    "* $[G]$ and $[H]$ are related, one can be deduced from the other\n",
    "* The resulting vector $z = [H] \\cdot [c]^T$ is the **syndrome**\n",
    "* All codewords generated with $[G]$ will produce $0$ when multiplied with $[H]$\n",
    "* All binary sequences that are not codewords will produce $\\neq 0$ when multiplied with $[H]$\n",
    "\n",
    "* Column-wise interpretation of multiplication:\n",
    "\n",
    "![Codeword checking with parity-check matrix](img/ParityCheckMatrix.png)"
   ]
  },
  {
   "cell_type": "markdown",
   "metadata": {
    "slideshow": {
     "slide_type": "slide"
    }
   },
   "source": [
    "### [G] and [H] for systematic codes\n",
    "\n",
    "* For systematic codes, [G] and [H] have special forms\n",
    "* Generator matrix\n",
    "    * first part = some matrix $Q$\n",
    "    * second part = identity matrix\n",
    "    \n",
    "$$[G]_{k \\times n} = [Q_{k \\times (n-k)} \\;\\; I_{k \\times k}]$$\n",
    "\n",
    "* Parity-check matrix\n",
    "    * first part = identity matrix\n",
    "    * second part = same Q, transposed\n",
    "    \n",
    "$$[H]_{(n-k) \\times n} = [I_{(n-k) \\times (n-k)} \\;\\; Q^T_{(n-k) \\times k}]$$\n",
    "\n",
    "* Can easily compute one from the other\n",
    "\n",
    "* Example at blackboard"
   ]
  },
  {
   "cell_type": "markdown",
   "metadata": {
    "slideshow": {
     "slide_type": "slide"
    }
   },
   "source": [
    "### Syndrome-based error detection\n",
    "\n",
    "Syndrome-based error *detection* for linear block codes:\n",
    "\n",
    "1. generate codewords with generator matrix:\n",
    "$$\\mathbf{i} \\cdot [G] = \\mathbf{c}$$\n",
    "\n",
    "2. send codeword $\\mathbf{c}$ on the channel\n",
    "3. random error word $\\mathbf{e}$ is applied on the channel\n",
    "4. receive word $\\mathbf{r} = \\mathbf{c} \\oplus \\mathbf{e}$\n",
    "\n",
    "5. compute **syndrome** of $\\mathbf{r}$:\n",
    "$$\\mathbf{z} = [H] \\cdot \\mathbf{r}^T$$\n",
    "\n",
    "6. Decide:\n",
    "    * If $\\mathbf{z} = 0$ => $\\mathbf{r}$ has no errors\n",
    "    * If $\\mathbf{z} \\neq 0$ => $\\mathbf{r}$ has errors"
   ]
  },
  {
   "cell_type": "markdown",
   "metadata": {
    "slideshow": {
     "slide_type": "slide"
    }
   },
   "source": [
    "### Syndrome-based error correction\n",
    "\n",
    "Syndrome-based error *correction* for linear block codes:\n",
    "\n",
    "* $\\mathbf{z} \\neq 0$ => $\\mathbf{r}$ has errors, we need to locate them\n",
    "\n",
    "* The syndrome is the effect only of the error word:\n",
    "$$\\mathbf{z} = [H] \\cdot \\mathbf{r}^T = [H] \\cdot (\\mathbf{c}^T \\oplus \\mathbf{e}^T) = [H] \\cdot \\mathbf{e}^T$$\n",
    "\n",
    "7. Create a **syndrome lookup table**:\n",
    "    * for every possible error word $\\mathbf{e}$, compute the syndrome $\\mathbf{z} = [H] \\cdot \\mathbf{e}^T$\n",
    "    * start with error words with 1 error (most likely), then with 2 errors (less likely), and so on\n",
    "\n",
    "8. Locate the syndrome $\\mathbf{z}$ in the table, read the corresponding error word $\\mathbf{\\hat{e}}$\n",
    "\n",
    "9. Find the correct word:\n",
    "    * adding the error word again will invert the errored bits back to the originals\n",
    "$$\\mathbf{\\hat{c}} = \\mathbf{r}  \\oplus \\mathbf{\\hat{e}}$$"
   ]
  },
  {
   "cell_type": "markdown",
   "metadata": {
    "slideshow": {
     "slide_type": "slide"
    }
   },
   "source": [
    "### Hamming codes\n",
    "\n",
    "* Simple class of linear error-correcting codes\n",
    "\n",
    "* Definition: a **Hamming code** is a linear block code where the columns of $[H]$\n",
    "are *the binary representation of all numbers from 1 to $2^r-1$*, $\\forall r \\geq 2$\n",
    "\n",
    "* Example (blackboard): (7,4) Hamming code\n",
    "\n",
    "* Systematic: (arrange the $r$ columns with a single 1 to the left, forming identity matrix)\n",
    "    \n",
    "**OR, better:**\n",
    "    \n",
    "* Leave columns in natural order, but shuffle the order of the bits in the codeword, such that the control bits still correspond to the columns having a single 1\n",
    "    * no significant difference from the usual systematic case\n",
    "    * makes implementation easier\n",
    "    * Example at the blackboard"
   ]
  },
  {
   "cell_type": "markdown",
   "metadata": {
    "slideshow": {
     "slide_type": "slide"
    }
   },
   "source": [
    "### Properties of Hamming codes\n",
    "\n",
    "* From definition of $[H]$ (systematic) it follows:\n",
    "    1. Codeword has length $n = 2^r - 1$\n",
    "    2. $r$ bits are parity bits\n",
    "    3. $k = 2^r-r-1$ bits are information bits\n",
    "\n",
    "* Same for non-systematic, but bits are arranged differently\n",
    "\n",
    "* Notation: **(n,k) Hamming code**\n",
    "    * n = codeword length = $2^r-1$, \n",
    "    * k = number of information bits  = $2^r - r - 1$\n",
    "    * Example: (7,4) Hamming code, (15,11) Hamming code, $(127,120)$ Hamming code\n"
   ]
  },
  {
   "cell_type": "markdown",
   "metadata": {
    "slideshow": {
     "slide_type": "slide"
    }
   },
   "source": [
    "### Properties of Hamming codes\n",
    "\n",
    "* Can detect two errors\n",
    "\t* All columns are different => can detect 2 errors\n",
    "\t* Sum of two columns equal to a third => cannot correct 3\n",
    "\n",
    "**OR**\n",
    "\n",
    "* Can correct one error\n",
    "\t* All columns are different => can correct 1 error\n",
    "\t* Sum of two columns equal to a third => cannot correct 2\n",
    "\t* Non-systematic: syndrome = error position\n",
    "\n",
    "**BUT**\n",
    "* Not simultaneously!\n",
    "    * same non-zero syndrome can be obtained with 1 or 2 errors, can't distinguish"
   ]
  },
  {
   "cell_type": "markdown",
   "metadata": {
    "slideshow": {
     "slide_type": "slide"
    }
   },
   "source": [
    "### SECDED Hamming codes\n",
    " \n",
    "* Add an additional parity bit to differentiate the two cases\n",
    "    * = sum of all $n$ bits of the codeword\n",
    "\n",
    "* Compute syndrome of the received word *without the additional parity bit*\n",
    "\t* If 1 error happened: syndrome is non-zero, parity bit does not match\n",
    "\t* If 2 errors happened: syndrome is non-zero, parity bit matches (the two errors cancel out)\n",
    "\t* If 3 errors happened: same as 1, can't differentiate\n",
    "\n",
    "* Now can simultaneously differentiate between:\n",
    "    * 1 error: perform correction\n",
    "    * 2 errors: detect, but do not perform correction\n",
    "    \n",
    "* If correction is never attempted, can detect up to 3 errors\n",
    "    * minimum Hamming distance = 4 (no proof)\n",
    "    * don't know if 1 error or more, so can't try correction\n",
    "    \n",
    "* Known as SECDED Hamming codes\n",
    "    * **S**ingle **E**rror **C**orrection - **D**ouble **E**rror **D**etection"
   ]
  },
  {
   "cell_type": "markdown",
   "metadata": {
    "slideshow": {
     "slide_type": "slide"
    }
   },
   "source": [
    "### Decoding SECDED Hamming codes\n",
    "\n",
    "\n",
    "Decoding with detection and correction\n",
    "\n",
    "1. Compute syndrome of received word without the additional parity bit\n",
    "2. If zero, no error\n",
    "3. If non-zero, check parity bit:\n",
    "\n",
    "    * If does not match => one error => perform correction\n",
    "    \n",
    "    * If does match => two errors => do not correct\n",
    "    \n",
    "Decoding with detection only\n",
    "\n",
    "1. Compute syndrome of received word, also check additional parity bit\n",
    "2. If syndrome is zero and parity bit is ok => no error\n",
    "3. If syndrome non-zero or parity bit does not match => 1 or 2 or 3 errors have happened, do not correct"
   ]
  },
  {
   "cell_type": "markdown",
   "metadata": {
    "slideshow": {
     "slide_type": "slide"
    }
   },
   "source": [
    "### Summary until now\n",
    "\n",
    "* Systematic codes: information bits + parity bits\n",
    "* Generator matrix: use to generate codeword\n",
    "$$\\mathbf{i} \\cdot [G] = \\mathbf{c}$$\n",
    "* Parity-check matrix: use to check if a codeword\n",
    "$$0 = [H] \\cdot \\mathbf{c}^T$$\n",
    "* Syndrome:\n",
    "$$\\mathbf{z} = [H] \\cdot \\mathbf{r}^T$$\n",
    "* Syndrome-based error detection: syndrome non-zero\n",
    "* Syndrome-based error correction: lookup table\n",
    "* Hamming codes: $[H]$ contains all numbers $1 ... 2^r - 1$\n",
    "* SECDED Hamming codes: add an extra parity bit"
   ]
  },
  {
   "cell_type": "markdown",
   "metadata": {
    "slideshow": {
     "slide_type": "slide"
    }
   },
   "source": [
    "### Cyclic codes\n",
    "\n",
    "Definition: **cyclic codes** are a particular class of linear block codes\n",
    "for which *every cyclic shift of a codeword is also a codeword*\n",
    "\n",
    "* Cyclic shift: cyclic rotation of a sequence of bits (any direction)\n",
    "\n",
    "* Are a particular class of linear block codes, so all the theory up to now still applies\n",
    "    * they have a generator matrix, parity check matrix etc.\n",
    "    \n",
    "* But they can be implemented more efficient than general linear block codes (e.g. Hamming)\n",
    "\n",
    "* Used **everywhere** under the common name **CRC** (**C**yclic **R**edundancy **C**heck)\n",
    "    * Network communications (Ethernet), data storage in Flash memory"
   ]
  },
  {
   "cell_type": "markdown",
   "metadata": {
    "slideshow": {
     "slide_type": "slide"
    }
   },
   "source": [
    "### Binary polynomials\n",
    "\n",
    "* Every binary sequence corresponds to a polynomial with binary coefficients (**to check order**):\n",
    "$$10010111 \\rightarrow X^7 \\oplus X^4 \\oplus X^2 \\oplus X \\oplus 1$$\n",
    "\n",
    "(From now on, by \"codeword\" we also mean the corresponding polynomial)\n",
    "\n",
    "** also write in general**\n",
    "\n",
    "* Can perform all operations with these polynomials:\n",
    "    * addition, multiplication, division etc. (examples)\n",
    "\n",
    "* There are efficient circuits for performing multiplications\n"
   ]
  },
  {
   "cell_type": "markdown",
   "metadata": {
    "slideshow": {
     "slide_type": "slide"
    }
   },
   "source": [
    "### Generator polynomial\n",
    "\n",
    "**Theorem**: \n",
    "\n",
    "All the codewords of a cyclic code are multiples of a certain polynomial $g(x)$,\n",
    "known as **generator polynomial**. \n",
    "\n",
    "Properties of generator polynomial $g(x)$:\n",
    "\n",
    "* The generator polynomial has first and last coefficient equal to 1.\n",
    "* The generator polynomial is a factor of $X^n \\oplus 1$\n",
    "* The *degree* of $g(x)$ is $n-k$, where:\n",
    "    * The codeword = polynomial of degree $n-1$ ($n$ coefficients)\n",
    "    * The information polynomial = polynomial of degree $k-1$ ($k$ coefficients)\n",
    "$$ (k-1) + (n-k) = n-1$$"
   ]
  },
  {
   "cell_type": "markdown",
   "metadata": {
    "slideshow": {
     "slide_type": "slide"
    }
   },
   "source": [
    "### Finding a generator polynomial\n",
    "\n",
    "**Theorem**: \n",
    "\n",
    "If $g(x)$ is a polynomial of degree $(n-k)$ and is a factor of $X^n \\oplus 1$, \n",
    "then $g(x)$ generates a $(n,k)$ cyclic code\n",
    "\n",
    "Example:\n",
    "\n",
    "$$x^7 \\oplus 1 = (1 \\oplus X)(1 \\oplus X + \\oplus X^3)(1 \\oplus X^2 \\oplus X^3)$$\n",
    "\n",
    "Each factor generates a code:\n",
    "\n",
    "* $1 \\oplus X$ generates a (7,6) cyclic code\n",
    "* $1 \\oplus X \\oplus X^3$ generates a (7,4) cyclic code\n",
    "* $1 \\oplus X^2 \\oplus X^3$ generates a (7,4) cyclic code"
   ]
  },
  {
   "cell_type": "markdown",
   "metadata": {
    "slideshow": {
     "slide_type": "slide"
    }
   },
   "source": [
    "### Computing the codewords\n",
    "\n",
    "**Non-systematic** codeword generation:\n",
    "\n",
    "* Codeword = information polynomial * $g(x)$\n",
    "\n",
    "$$\\boxed{c(x) = i(x) \\cdot g(x)}$$\n",
    "\n",
    "**Systematic** codeword generation:\n",
    "\n",
    "$$\\boxed{c(x) = b(x) \\oplus X^{n-k}i(x)}$$\n",
    "\n",
    "where $b(x)$ is the remainder of dividing $X^{n-k} i(x)$ to $g(x)$:\n",
    "$$X^{n-k} i(x) = a(x) g(x) \\oplus b(x)$$\n",
    "\n",
    "* (Proof: at blackboard)"
   ]
  },
  {
   "cell_type": "markdown",
   "metadata": {
    "slideshow": {
     "slide_type": "slide"
    }
   },
   "source": [
    "### Proving the cyclic property\n",
    "\n",
    "We can prove that if any cyclic shift of a codeword is also a codeword\n",
    "\n",
    "Proof: at whiteboard"
   ]
  },
  {
   "cell_type": "markdown",
   "metadata": {
    "slideshow": {
     "slide_type": "slide"
    }
   },
   "source": [
    "### Cyclic code encoder circuits\n",
    "\n",
    "* Coding = based on polynomial multiplications and divisions\n",
    "* Efficient circuits for multiplication / division exist\n",
    "\n",
    "* Similar circuit exists for systematic codeword generation (draw on blackboard)"
   ]
  },
  {
   "cell_type": "markdown",
   "metadata": {
    "slideshow": {
     "slide_type": "slide"
    }
   },
   "source": [
    "### Circuits for multiplication binary polynomials\n",
    "\n",
    "![Circuits for polynomial multiplication](img/MultiplicationCircuits.png)"
   ]
  },
  {
   "cell_type": "markdown",
   "metadata": {
    "slideshow": {
     "slide_type": "slide"
    }
   },
   "source": [
    "### Circuits for division binary polynomials\n",
    "\n",
    "![Circuits for polynomial division](img/DivisionCircuits.png)"
   ]
  },
  {
   "cell_type": "markdown",
   "metadata": {
    "slideshow": {
     "slide_type": "slide"
    }
   },
   "source": [
    "### Error detection with cyclic codes\n",
    "\n",
    "* Like usual for linear codes: check if received word is codeword or not\n",
    "\n",
    "* Every codeword is multiple of $g(x)$\n",
    "\n",
    "* Check if received word is actually dividing with $g(x)$\n",
    "    * Use a circuit for division of polynomials\n",
    "    \n",
    "* If remainder is 0 => it is a codeword, no error\n",
    "\n",
    "* If remainder is non-0 => error detected!\n",
    "\n",
    "* Cyclic codes have very good error detection capabilities"
   ]
  },
  {
   "cell_type": "markdown",
   "metadata": {
    "slideshow": {
     "slide_type": "slide"
    }
   },
   "source": [
    "### Error correction capability\n",
    "\n",
    "Theorem:\n",
    "\n",
    "Any (n,k) cyclic codes is capable of detecting any error **burst** of length $n-k$ or less.\n",
    "\n",
    "* A large fraction of longer bursts can also be detected (but not all)\n",
    "\n",
    "* For non-burst errors (random): more difficult to analyze"
   ]
  },
  {
   "cell_type": "markdown",
   "metadata": {
    "slideshow": {
     "slide_type": "slide"
    }
   },
   "source": [
    "### Error correction with cyclic codes\n",
    "\n",
    "* Like usual for linear codes: lookup table based on remainder\n",
    "\n",
    "* Remainder of division = the effect of the error polynomial\n",
    "\n",
    "* Create lookup table: for every error word, compute remainder\n",
    "\n",
    "* Search the table for the remainder of the received word => find error word"
   ]
  },
  {
   "cell_type": "markdown",
   "metadata": {
    "slideshow": {
     "slide_type": "slide"
    }
   },
   "source": [
    "### Summary of cyclic codes\n",
    "\n",
    "* Generated using a generator polynomial $g(x)$\n",
    "* Non-systematic:\n",
    "$$c(x) = i(x) \\cdot g(x)$$\n",
    "* Systematic:\n",
    "$$c(x) = b(x) \\oplus X^{n-k}i(x)$$\n",
    "    *  $b(x)$ is the remainder of dividing $X^{n-k} i(x)$ to $g(x)$\n",
    "* Syndrome = remainder of division $r(x)$ to $g(x)$\n",
    "* Error detection: remainder (syndrome) non-zero\n",
    "* Error correction: lookup table "
   ]
  },
  {
   "cell_type": "code",
   "execution_count": 3,
   "metadata": {
    "collapsed": false,
    "slideshow": {
     "slide_type": "slide"
    }
   },
   "outputs": [
    {
     "data": {
      "text/plain": [
       "[<matplotlib.lines.Line2D at 0xabb9858c>]"
      ]
     },
     "execution_count": 3,
     "metadata": {},
     "output_type": "execute_result"
    },
    {
     "data": {
      "image/png": "[encoded data removed]",
      "text/plain": [
       "<matplotlib.figure.Figure at 0xb51362ac>"
      ]
     },
     "metadata": {},
     "output_type": "display_data"
    }
   ],
   "source": [
    "%matplotlib inline\n",
    "import matplotlib.pyplot as plt\n",
    "x = 'TEST'\n",
    "plt.plot([1,2,3])"
   ]
  }
 ],
 "metadata": {
  "celltoolbar": "Slideshow",
  "kernelspec": {
   "display_name": "Python 2",
   "language": "python",
   "name": "python2"
  },
  "language_info": {
   "codemirror_mode": {
    "name": "ipython",
    "version": 2
   },
   "file_extension": ".py",
   "mimetype": "text/x-python",
   "name": "python",
   "nbconvert_exporter": "python",
   "pygments_lexer": "ipython2",
   "version": "2.7.10"
  },
  "livereveal": {
   "scroll": true,
   "start_slideshow_at": "selected",
   "theme": "serif",
   "transition": "none",
   "transitionSpeed": "fast"
  }
 },
 "nbformat": 4,
 "nbformat_minor": 0
}
