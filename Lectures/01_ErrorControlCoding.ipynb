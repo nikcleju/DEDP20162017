{
 "cells": [
  {
   "cell_type": "markdown",
   "metadata": {
    "slideshow": {
     "slide_type": "slide"
    }
   },
   "source": [
    "### What is error control coding?\n",
    "\n",
    "![Communication system](img/CommBlockDiagram.png)\n",
    "\n",
    "* The second main task of coding: **error control **\n",
    "* Protect information against channel errors"
   ]
  },
  {
   "cell_type": "markdown",
   "metadata": {
    "slideshow": {
     "slide_type": "slide"
    }
   },
   "source": [
    "### Mutual information and error control\n",
    "\n",
    "* Mutual information $I(X,Y)$ = the information transmitted on the channel\n",
    "\n",
    "* Even though there is information transmitted on the channel, when the channel is noisy the information is **not enough** \n",
    "\n",
    "Example: consider the following BSC channel (p = 0.01, $p(x_1) = 0.5$, $p(x_2)=0.5$):\n",
    "\n",
    "![Binary symmetric channel (BSC) ](img/BSC.png)\n",
    "\n",
    "* The receiver would like to know the source messages \n",
    "    * In absence of communication, the uncertainty is $H(X) = 1$ bit/msg\n",
    "    * With communication, the uncertainty is $H(X|Y) \\approx 0.081$ bit/msg\n",
    "    * $I(X,Y) = H(X) - H(X|Y) = \\approx 0.919$ bit/msg\n",
    "* Even though we have large I(X,Y), about $1\\%$ of all bits are erroneuos\n",
    "    * Imagine downloading a file, but having $1\\%$ wrong bits"
   ]
  },
  {
   "cell_type": "markdown",
   "metadata": {
    "slideshow": {
     "slide_type": "slide"
    }
   },
   "source": [
    "###  Why is error control needed?\n",
    "\n",
    "* In most communications it is required that *all* bits are received correctly\n",
    "    * Not $1\\%$ errors, not $0.1\\%$, not $0.0001\\%$. **None!**\n",
    "\n",
    "* But that is not possible unless the channel is ideal.\n",
    "\n",
    "* So what do to? **Error control coding**"
   ]
  },
  {
   "cell_type": "markdown",
   "metadata": {
    "slideshow": {
     "slide_type": "slide"
    }
   },
   "source": [
    "### Modelling the errors on the channel\n",
    "\n",
    "* We consider only binary channels (symbols = $\\left\\lbrace 0,1 \\right\\rbrace$)\n",
    "* An error = a bit is changed from 0 to 1 or viceversa\n",
    "* Changing the value of a bit = modulo-2 sum with 1\n",
    "* Value of a bit remains the same = modulo-2 sum with 0\n",
    "    \n",
    "![Channel error model](img/ChannelErrorModel.png)\n",
    "\n",
    "* Channel model we use (simple):\n",
    "    * The transmitted sequence is summed modulo-2 with an **error sequence**\n",
    "    * Where the error sequence is 1, there is a bit error\n",
    "    * Where the error sequence is 0, there is no error\n",
    "$$\\mathbf{r} = \\mathbf{c} \\oplus \\mathbf{e}$$"
   ]
  },
  {
   "cell_type": "markdown",
   "metadata": {
    "slideshow": {
     "slide_type": "slide"
    }
   },
   "source": [
    "### Error detection and error correction\n",
    "\n",
    "Binary error correction:\n",
    "\n",
    "* For binary channels, know the location of error => fix error by inverting bit\n",
    "* Locating error = correcting error\n",
    "\n",
    "Two possibilities in practice:\n",
    "\n",
    "* **Error detection**: find out if there is any error in the received sequence\n",
    "    * don't know exactly where, so cannot correct the bits, but can discard whole sequence\n",
    "    * perhaps ask the sender to retransmit (examples: TCP/IP, internet communication etc)\n",
    "    * easier to do\n",
    "* **Error correction**: find out exactly which bits have errors, if any\n",
    "    * can correct all errored bits by inverting them\n",
    "    * useful when can't retransmit (data is stored: on HDD, AudioCD etc.)\n",
    "    * harder to do than mere detection"
   ]
  },
  {
   "cell_type": "markdown",
   "metadata": {
    "slideshow": {
     "slide_type": "slide"
    }
   },
   "source": [
    "### What is error control coding?\n",
    "\n",
    "The process of error control:\n",
    "\n",
    "1. Want to send a sequence of $k$ bits = **information word**\n",
    "$$\\mathbf{i} = i_1i_2...i_k$$\n",
    "\n",
    "2. For each possible information word, the coder assigns a **codeword** of length $n > k$:\n",
    "$$\\mathbf{c} = c_1c_2...c_n$$\n",
    "\n",
    "3. The codeword is sent on the channel instead of the original information word\n",
    "\n",
    "4. The receiver receives a sequence $\\mathbf{r} = \\mathbf{c} + \\mathbf{e}$, with possible errors:\n",
    "$$\\mathbf{r} = r_1 r_2 ... r_n$$\n",
    "\n",
    "5. The decoding algorithm detects/corrects the errors in $\\mathbf{r}$"
   ]
  },
  {
   "cell_type": "markdown",
   "metadata": {
    "slideshow": {
     "slide_type": "slide"
    }
   },
   "source": [
    "### Definitions\n",
    "\n",
    "* An **error correcting code** is an association between the set of all possible information words to a set of codewords\n",
    "    * Each possible information word $\\mathbf{i}$ has a certain codeword $\\mathbf{c}$\n",
    "* The association can be done:\n",
    "    * randomly: codewords are selected and associated randomly to the information words\n",
    "    * based on a certain rule: the codeword is computed with some algorithm from the information word\n",
    "\n",
    "* A code is a **block code** if it operates with words of *fixed size*\n",
    "    * Size of information word $\\mathbf{i} = k$, size of codeword $\\mathbf{c} = n$, $n > k$\n",
    "    * Otherwise it is a *non-block code*\n",
    "    \n",
    "* A code is **linear** if any linear combination of codewords is also a codeword\n",
    "\n",
    "* The **coding rate** of a code is:\n",
    "$$R = \\frac{k}{n}$$"
   ]
  },
  {
   "cell_type": "markdown",
   "metadata": {
    "slideshow": {
     "slide_type": "slide"
    }
   },
   "source": [
    "### Definitions\n",
    "\n",
    "* A code $C$ is an **$t$-error-detecting** code if it is able to *detect* $t$ errors\n",
    "\n",
    "* A code $C$ is an **$t$-error-correcting** code if it is able to *correct* $t$ errors"
   ]
  },
  {
   "cell_type": "markdown",
   "metadata": {
    "slideshow": {
     "slide_type": "slide"
    }
   },
   "source": [
    "### Hamming distance\n",
    "\n",
    "* The **Hamming distance** of two binary sequences $a$, $b$ of length $n$ = the total number\n",
    "of bit differences between them\n",
    "$$d_H(a, b) = \\sum_{i=1}^N a_i \\bigoplus b_i$$\n",
    "\n",
    "* We need at least $d_H(a, b)$ bit changes to convert one sequence into another\n",
    "\n",
    "* It satisfies the 3 properties of a metric function:\n",
    "    1. $d(a,b) \\geq 0 \\forall a,b$, with $d(a,b) = 0 \\Leftrightarrow a = b$\n",
    "    2. $d(a,b) = d(b,a), \\forall a,b$\n",
    "    3. $d(a,c) \\leq d(a,b) + d(b,c), \\forall a,b,c$\n",
    "\n",
    "* The **minimum Hamming distance of a code**, ${d_H}_{min}$ = the minimum Hamming distance\n",
    "between any two codewords $\\mathbf{c_1}$ and $\\mathbf{c_2}$\n",
    "\n",
    "* Example at blackboard"
   ]
  },
  {
   "cell_type": "markdown",
   "metadata": {
    "slideshow": {
     "slide_type": "slide"
    }
   },
   "source": [
    "### Linear block codes\n",
    "\n",
    "* A code is a **block code** if it operates with words of *fixed size*\n",
    "    * Size of information word $\\mathbf{i} = k$, size of codeword $\\mathbf{c} = n$, $n > k$\n",
    "    * Otherwise it is a *non-block code*\n",
    "    \n",
    "* A code is **linear** if any linear combination of codewords is also a codeword\n",
    "\n",
    "* A code is called **systematic** if the codeword contains all the information bits explicitly, unaltered\n",
    "    * coding merely adds supplementary bits besides the information bits\n",
    "    * codeword has two parts: the information bits and the parity bits\n",
    "    * example: parity bit added after the information bits\n",
    "    \n",
    "* Otherwise the code is called **non-systematic**\n",
    "    * the information bits are not explicitly visible in the codeword\n",
    "\n",
    "* Example: at blackboard"
   ]
  },
  {
   "cell_type": "markdown",
   "metadata": {
    "slideshow": {
     "slide_type": "slide"
    }
   },
   "source": [
    "### Generator matrix \n",
    "\n",
    "* All codewords for a linear block code can be generated via a matrix multiplication:\n",
    "$$\\mathbf{i} \\cdot [G] = \\mathbf{c}$$\n",
    "\n",
    "![Codeword construction with generator matrix](img/GeneratorMatrix.png)\n",
    "\n",
    "* $[G]$ = **generator matrix** of size $k \\times n$\n",
    "\n",
    "* All operations are done in modulo-2 arithmetic:\n",
    "    * $0 \\oplus 0 = 0$, $0 \\oplus 1 = 1$, $1 \\oplus 0 = 1$, $1 \\oplus 1 = 0$\n",
    "    * multiplications as usual\n",
    "    \n",
    "* Row-wise interpretation:\n",
    "    * $\\mathbf{c}$ = a linear combination of rows in $[G]$\n",
    "    * The rows of $[G]$ = a *basis* for the linear code"
   ]
  },
  {
   "cell_type": "markdown",
   "metadata": {
    "slideshow": {
     "slide_type": "slide"
    }
   },
   "source": [
    "### Parity check matrix\n",
    "\n",
    "* How to check if a binary word is a codeword or not\n",
    "* Every $k \\times n$ generator matrix $[G]$ has complementary matrix $[H]$ such that\n",
    "$$0 = [H] \\cdot [G]^T$$\n",
    "\n",
    "* For every codeword $\\mathbf{c}$ generated with $[G]$:\n",
    "$$\\boxed{ 0 = [H] \\cdot \\mathbf{c}^T }$$\n",
    "\n",
    "* because:\n",
    "$$\\mathbf{i} \\cdot [G] = \\mathbf{c}$$\n",
    "$$[G]^T \\cdot \\mathbf{i}^T = \\mathbf{c}^T$$\n",
    "$$[H] \\cdot \\mathbf{c}^T = [H] \\cdot [G]^T \\cdot \\mathbf{i}^T = 0$$"
   ]
  },
  {
   "cell_type": "markdown",
   "metadata": {
    "slideshow": {
     "slide_type": "slide"
    }
   },
   "source": [
    "### Parity check matrix\n",
    "\n",
    "* $[H]$ is the **parity-check matrix**, size = $(n-k) \\times n$\n",
    "* $[G]$ and $[H]$ are related, one can be deduced from the other\n",
    "* The resulting vector $z = [H] \\cdot [c]^T$ is the **syndrome**\n",
    "* All codewords generated with $[G]$ will produce $0$ when multiplied with $[H]$\n",
    "* All binary sequences that are not codewords will produce $\\neq 0$ when multiplied with $[H]$\n",
    "\n",
    "* Column-wise interpretation of multiplication:\n",
    "\n",
    "![Codeword checking with parity-check matrix](img/ParityCheckMatrix.png)"
   ]
  },
  {
   "cell_type": "markdown",
   "metadata": {
    "slideshow": {
     "slide_type": "slide"
    }
   },
   "source": [
    "### [G] and [H] for systematic codes\n",
    "\n",
    "* For systematic codes, [G] and [H] have special forms\n",
    "* Generator matrix\n",
    "    * first part = some matrix $Q$\n",
    "    * second part = identity matrix\n",
    "    \n",
    "$$[G]_{k \\times n} = [Q_{k \\times (n-k)} \\;\\; I_{k \\times k}]$$\n",
    "\n",
    "* Parity-check matrix\n",
    "    * first part = identity matrix\n",
    "    * second part = same Q, transposed\n",
    "    \n",
    "$$[H]_{(n-k) \\times n} = [I_{(n-k) \\times (n-k)} \\;\\; Q^T_{(n-k) \\times k}]$$\n",
    "\n",
    "* Can easily compute one from the other\n",
    "\n",
    "* Example at blackboard"
   ]
  },
  {
   "cell_type": "markdown",
   "metadata": {
    "slideshow": {
     "slide_type": "slide"
    }
   },
   "source": [
    "### Syndrome-based error detection\n",
    "\n",
    "Syndrome-based error *detection* for linear block codes:\n",
    "\n",
    "1. generate codewords with generator matrix:\n",
    "$$\\mathbf{i} \\cdot [G] = \\mathbf{c}$$\n",
    "\n",
    "2. send codeword $\\mathbf{c}$ on the channel\n",
    "3. random error word $\\mathbf{e}$ is applied on the channel\n",
    "4. receive word $\\mathbf{r} = \\mathbf{c} \\oplus \\mathbf{e}$\n",
    "\n",
    "5. compute **syndrome** of $\\mathbf{r}$:\n",
    "$$\\mathbf{z} = [H] \\cdot \\mathbf{r}^T$$\n",
    "\n",
    "6. Decide:\n",
    "    * If $\\mathbf{z} = 0$ => $\\mathbf{r}$ has no errors\n",
    "    * If $\\mathbf{z} \\neq 0$ => $\\mathbf{r}$ has errors"
   ]
  },
  {
   "cell_type": "markdown",
   "metadata": {
    "slideshow": {
     "slide_type": "slide"
    }
   },
   "source": [
    "### Syndrome-based error correction\n",
    "\n",
    "Syndrome-based error *correction* for linear block codes:\n",
    "\n",
    "* $\\mathbf{z} \\neq 0$ => $\\mathbf{r}$ has errors, we need to locate them\n",
    "\n",
    "* The syndrome is the effect only of the error word:\n",
    "$$\\mathbf{z} = [H] \\cdot \\mathbf{r}^T = [H] \\cdot (\\mathbf{c}^T \\oplus \\mathbf{e}^T) = [H] \\cdot \\mathbf{e}^T$$\n",
    "\n",
    "7. Create a **syndrome lookup table**:\n",
    "    * for every possible error word $\\mathbf{e}$, compute the syndrome $\\mathbf{z} = [H] \\cdot \\mathbf{e}^T$\n",
    "    * start with error words with 1 error (most likely), then with 2 errors (less likely), and so on\n",
    "\n",
    "8. Locate the syndrome $\\mathbf{z}$ in the table, read the corresponding error word $\\mathbf{\\hat{e}}$\n",
    "\n",
    "9. Find the correct word:\n",
    "    * adding the error word again will invert the errored bits back to the originals\n",
    "$$\\mathbf{\\hat{c}} = \\mathbf{r}  \\oplus \\mathbf{\\hat{e}}$$"
   ]
  },
  {
   "cell_type": "markdown",
   "metadata": {
    "slideshow": {
     "slide_type": "slide"
    }
   },
   "source": [
    "### Summing up\n",
    "\n",
    "Summing up until now:\n",
    "\n",
    "* Linear block codes use a generator matrix $G$ for encoding, and a parity-check matrix $H$ for checking the received word."
   ]
  },
  {
   "cell_type": "markdown",
   "metadata": {
    "slideshow": {
     "slide_type": "slide"
    }
   },
   "source": [
    "### Hamming codes\n",
    "\n",
    "* A particular class of linear error-correcting codes\n",
    "\n",
    "* Definition: a **Hamming code** is a linear block code where the columns of $[H]$\n",
    "are *the binary representation of all numbers from 1 to $2^r-1$*, $\\forall r \\geq 2$\n",
    "\n",
    "* Example (blackboard): (7,4) Hamming code\n",
    "\n",
    "* Systematic: arrange the bits in the codeword, such that the control bits correspond to the columns having a single 1\n",
    "    * no big difference from the usual systematic case, just a rearrangement of bits\n",
    "    * makes implementation easier\n",
    "    \n",
    "* Example codeword for Hamming(7,4):\n",
    "$$c_1c_2i_3c_4i_5i_6i_7$$"
   ]
  },
  {
   "cell_type": "markdown",
   "metadata": {
    "slideshow": {
     "slide_type": "slide"
    }
   },
   "source": [
    "### Properties of Hamming codes\n",
    "\n",
    "* From definition of $[H]$ it follows:\n",
    "    1. Codeword has length $n = 2^r - 1$\n",
    "    2. $r$ bits are parity bits (also known as ***control bits***)\n",
    "    3. $k = 2^r-r-1$ bits are information bits\n",
    "\n",
    "* Notation: **(n,k) Hamming code**\n",
    "    * n = codeword length = $2^r-1$, \n",
    "    * k = number of information bits  = $2^r - r - 1$\n",
    "    * Example: (7,4) Hamming code, (15,11) Hamming code, $(127,120)$ Hamming code"
   ]
  },
  {
   "cell_type": "markdown",
   "metadata": {
    "slideshow": {
     "slide_type": "slide"
    }
   },
   "source": [
    "### Properties of Hamming codes\n",
    "\n",
    "* Can detect two errors\n",
    "\t* All columns are different => can detect 2 errors\n",
    "\t* Sum of two columns equal to a third => cannot correct 3\n",
    "\n",
    "**OR**\n",
    "\n",
    "* Can correct one error\n",
    "\t* All columns are different => can correct 1 error\n",
    "\t* Sum of two columns equal to a third => cannot correct 2\n",
    "\t* Non-systematic: syndrome = error position\n",
    "\n",
    "**BUT**\n",
    "* Not simultaneously!\n",
    "    * same non-zero syndrome can be obtained with 1 or 2 errors, can't distinguish"
   ]
  },
  {
   "cell_type": "markdown",
   "metadata": {
    "slideshow": {
     "slide_type": "slide"
    }
   },
   "source": [
    "### Coding rate of Hamming codes\n",
    "\n",
    "Coding rate of a Hamming code:\n",
    "$$R = \\frac{k}{n} = \\frac{2^r - r - 1}{2^r-1}$$\n",
    "\n",
    "The Hamming codes can correct 1 OR detect 2 errors in a codeword of size $n$\n",
    "* (7,4) Hamming code: $n = 7$\n",
    "* (15,11) Hamming code: $n = 15$\n",
    "* (31,26) Hamming code: $n = 31$\n",
    "\n",
    "Longer Hamming codes are progressively weaker:\n",
    "* weaker error correction capability\n",
    "* better efficiency (higher coding rate)\n",
    "* more appropriate for smaller error probabilities"
   ]
  },
  {
   "cell_type": "code",
   "execution_count": 2,
   "metadata": {
    "collapsed": false,
    "slideshow": {
     "slide_type": "slide"
    }
   },
   "outputs": [
    {
     "data": {
      "text/plain": [
       "<matplotlib.text.Text at 0xab8e646c>"
      ]
     },
     "execution_count": 2,
     "metadata": {},
     "output_type": "execute_result"
    },
    {
     "data": {
      "image/png": "[encoded data removed]",
      "text/plain": [
       "<matplotlib.figure.Figure at 0xabc5984c>"
      ]
     },
     "metadata": {},
     "output_type": "display_data"
    }
   ],
   "source": [
    "%matplotlib inline\n",
    "import numpy as np, matplotlib.pyplot as plt\n",
    "r = np.array([3., 4., 5., 6., 7., 8., 9., 10.])\n",
    "k = 2**r - r - 1\n",
    "n = 2**r-1\n",
    "R = k/n\n",
    "plt.plot(r, R)\n",
    "plt.xticks(r, [str(int(i)) for i in n])\n",
    "plt.title('Coding rate of Hamming codes of various lengths')\n",
    "plt.xlabel('Size of codeword $n$')\n",
    "plt.ylabel('Coding rate $R$')\n"
   ]
  },
  {
   "cell_type": "markdown",
   "metadata": {
    "slideshow": {
     "slide_type": "slide"
    }
   },
   "source": [
    "### Encoding & decoding example for Hamming(7,4)\n",
    "\n",
    "See whiteboard.\n",
    "\n",
    "In this example, encoding is done without the generator matrix $G$, directly with the matrix $H$, by finding the values of the parity bits $c_1$, $c_2$, $c_4$ such that\n",
    "$$\\begin{bmatrix}0\\\\0\\\\0\\end{bmatrix} = [H] \\begin{bmatrix}c_1\\\\c_2\\\\i_3\\\\c_4\\\\i_5\\\\i_6\\\\i_7\\end{bmatrix}$$\n",
    "\n",
    "For a single error, the syndrome **is the binary representation of the location of the error**.\n"
   ]
  },
  {
   "cell_type": "markdown",
   "metadata": {
    "slideshow": {
     "slide_type": "slide"
    }
   },
   "source": [
    "### Circuits for encoding and decoding Hamming(7,4)\n",
    "\n",
    "At whiteboard, using **shift registers**."
   ]
  },
  {
   "cell_type": "markdown",
   "metadata": {
    "slideshow": {
     "slide_type": "slide"
    }
   },
   "source": [
    "### SECDED Hamming codes\n",
    "\n",
    "Hamming codes can correct 1 error OR can detect 2 errors, but we cannot differentiate the two cases:\n",
    "\n",
    "Example:\n",
    "* the syndrome $\\mathbf{z} = [H] \\cdot \\mathbf{r}^T = \\begin{bmatrix}0\\\\1\\\\1\\end{bmatrix}$ can be caused by:\n",
    "    * a single error in location 3 (bit $i_3$)\n",
    "    * two errors in location 1 and 2 (bits $c_1$, bits $c_2$)\n",
    "    \n",
    "* if we know it is a single error, we can go ahead and correct it, then use the corrected data\n",
    "* if we know there are two errors, we should NOT attempt to correct them, because we cannot locate the errors correctly\n",
    "\n",
    "Unfortunately, it is **not possible to differentiate** between the two cases.\n",
    "\n",
    "**Solution?** Add additional parity bit $\\rightarrow$ SECDED Hamming codes \n"
   ]
  },
  {
   "cell_type": "markdown",
   "metadata": {
    "slideshow": {
     "slide_type": "slide"
    }
   },
   "source": [
    "### SECDED Hamming codes\n",
    "\n",
    "* Add an additional parity bit to differentiate the two cases\n",
    "    * $c_0$ = sum of all $n$ bits of the codeword\n",
    "\n",
    "* For (7,4) Hamming codes: $$\\mathbf{c_0}c_1c_2i_3c_4i_5i_6i_7$$\n",
    "\n",
    "* The pairty check matrix is extended by 1 row and 1 column\n",
    "$$\\tilde{H} = \n",
    "\\begin{bmatrix}\n",
    "1 &1 \\\\\n",
    "0 &\\mathbf{H} \\\\\n",
    "\\end{bmatrix}$$\n",
    "\n",
    "* Known as SECDED Hamming codes\n",
    "    * **S**ingle **E**rror **C**orrection - **D**ouble **E**rror **D**etection\n",
    "\n",
    "\n"
   ]
  },
  {
   "cell_type": "markdown",
   "metadata": {
    "slideshow": {
     "slide_type": "slide"
    }
   },
   "source": [
    "### Encoding and decoding of SECDED Hamming codes\n",
    "\n",
    "#### Encoding\n",
    "* compute codeword using $\\tilde{H}$\n",
    "\n",
    "#### Decoding\n",
    "* Compute syndrome of the received word using $\\tilde{H}$\n",
    "$$\\tilde{\\mathbf{z}} = \\begin{bmatrix}z_0\\\\\\mathbf{z}\\end{bmatrix} = [\\tilde{H}] \\cdot \\mathbf{r}^T$$\n",
    "* $z_0$ is an additional bit in the syndrome corresponding to $c_0$\n",
    "* $z_0$ tells us whether the received $c_0$ matches the paroty of the received word\n",
    "    * $z_0 = 0$: the additional parity bit matches the parity of the received word\n",
    "    * $z_0 = 1$: the additional parity bit does not match the parity of the received word\n",
    "\n",
    "#### Decide which of the following cases happened\n",
    "* If no error happened: $z_1 = z_2 = z_3 = 0, z_0 = \\forall$\n",
    "* If 1 error happened: syndrome is non-zero, $z_0 = 1$ (does not match)\n",
    "* If 2 errors happened: syndrome is non-zero, $z_0 = 0$ (does match, because the two errors cancel each other out)\n",
    "* If 3 errors happened: same as 1, can't differentiate\n",
    "\n",
    "* Now can simultaneously differentiate between:\n",
    "    * 1 error: $\\rightarrow$ perform correction\n",
    "    * 2 errors: $\\rightarrow$ detect, but do not perform correction\n",
    "    \n",
    "* Also, if correction is never attempted, can detect up to 3 errors\n",
    "    * minimum Hamming distance = 4 (no proof given)\n",
    "    * don't know if 1 error, 2 errors or 3 errors, so can't try correction\n",
    "    \n"
   ]
  },
  {
   "cell_type": "markdown",
   "metadata": {
    "slideshow": {
     "slide_type": "slide"
    }
   },
   "source": [
    "### Circuits for encoding and decoding SECDED Hamming codes\n",
    "\n",
    "At whiteboard. Slight modification of the previous schematic to accommodate the extra parity bit."
   ]
  },
  {
   "cell_type": "markdown",
   "metadata": {
    "slideshow": {
     "slide_type": "slide"
    }
   },
   "source": [
    "### Summary until now\n",
    "\n",
    "* Systematic codes: information bits + parity bits\n",
    "* Generator matrix: use to generate codeword\n",
    "$$\\mathbf{i} \\cdot [G] = \\mathbf{c}$$\n",
    "* Parity-check matrix: use to check if a codeword\n",
    "$$0 = [H] \\cdot \\mathbf{c}^T$$\n",
    "* Syndrome:\n",
    "$$\\mathbf{z} = [H] \\cdot \\mathbf{r}^T$$\n",
    "* Syndrome-based error detection: syndrome non-zero\n",
    "* Syndrome-based error correction: lookup table\n",
    "* Hamming codes: $[H]$ contains all numbers $1 ... 2^r - 1$\n",
    "* SECDED Hamming codes: add an extra parity bit"
   ]
  },
  {
   "cell_type": "markdown",
   "metadata": {
    "slideshow": {
     "slide_type": "slide"
    }
   },
   "source": [
    "## Cyclic codes\n",
    "\n",
    "Definition: \n",
    "\n",
    "**Cyclic codes** are a particular class of linear block codes\n",
    "for which *every cyclic shift of a codeword is also a codeword*\n",
    "\n",
    "* Cyclic shift: cyclic rotation of a sequence of bits (any direction)\n",
    "\n",
    "* Are a particular class of linear block codes, so all the theory up to now still applies\n",
    "    * they have a generator matrix, parity check matrix etc.\n",
    "    \n",
    "* But they can be implemented more efficient than general linear block codes (e.g. Hamming)\n",
    "\n",
    "* Used **everywhere** under the common name **CRC** (**C**yclic **R**edundancy **C**heck)\n",
    "    * Network communications (Ethernet), data storage in Flash memory"
   ]
  },
  {
   "cell_type": "markdown",
   "metadata": {
    "slideshow": {
     "slide_type": "slide"
    }
   },
   "source": [
    "### Binary polynomials\n",
    "\n",
    "Every binary sequence $\\mathbf{a}$ corresponds to a polynomial $\\mathbf{a(x)}$ with binary coefficients\n",
    "$$a_0a_1...a_{n-1} \\rightarrow \\mathbf{a(x)} = a_0 \\oplus a_1x \\oplus ... \\oplus a_{n-1}x^{n-1}$$\n",
    "\n",
    "Example:\n",
    "$$10010111 \\rightarrow 1 \\oplus x^3 \\oplus x^5 \\oplus x^6 \\oplus x^7$$\n",
    "\n",
    "From now on, by \"codeword\" we also mean the corresponding polynomial.\n",
    "\n",
    "\n",
    "Can perform all mathematical operations with these polynomials:\n",
    "* addition, multiplication, division etc. (examples)\n",
    "\n",
    "There are efficient circuits for performing multiplications and divisions."
   ]
  },
  {
   "cell_type": "markdown",
   "metadata": {
    "slideshow": {
     "slide_type": "slide"
    }
   },
   "source": [
    "### Generator polynomial\n",
    "\n",
    "**Theorem**: \n",
    "\n",
    "All the codewords of a cyclic code are multiples of a certain polynomial $g(x)$,\n",
    "known as **generator polynomial**. \n",
    "\n",
    "Properties of generator polynomial $g(x)$:\n",
    "\n",
    "* The generator polynomial has first and last coefficient equal to 1.\n",
    "* The generator polynomial is a factor of $X^n \\oplus 1$\n",
    "* The *degree* of $g(x)$ is $n-k$, where:\n",
    "    * The codeword = polynomial of degree $n-1$ ($n$ coefficients)\n",
    "    * The information polynomial = polynomial of degree $k-1$ ($k$ coefficients)\n",
    "$$ (k-1) + (n-k) = n-1$$\n",
    "* **The degree of $g(x)$ is the number of parity bits of the code.**"
   ]
  },
  {
   "cell_type": "markdown",
   "metadata": {
    "slideshow": {
     "slide_type": "slide"
    }
   },
   "source": [
    "### Finding a generator polynomial\n",
    "\n",
    "**Theorem**: \n",
    "\n",
    "If $g(x)$ is a polynomial of degree $(n-k)$ and is a factor of $X^n \\oplus 1$, \n",
    "then $g(x)$ generates a $(n,k)$ cyclic code.\n",
    "\n",
    "Example:\n",
    "\n",
    "$$1 \\oplus x^7 = (1 \\oplus x)(1 \\oplus x + \\oplus x^3)(1 \\oplus x^2 \\oplus x^3)$$\n",
    "\n",
    "Each factor generates a code:\n",
    "\n",
    "* $1 \\oplus x$ generates a (7,6) cyclic code\n",
    "* $1 \\oplus x \\oplus x^3$ generates a (7,4) cyclic code\n",
    "* $1 \\oplus x^2 \\oplus x^3$ generates a (7,4) cyclic code"
   ]
  },
  {
   "cell_type": "markdown",
   "metadata": {
    "slideshow": {
     "slide_type": "slide"
    }
   },
   "source": [
    "### Computing the codewords\n",
    "Start from **information polynomial** with $k$ bits \n",
    "$$i(x) = i_0 \\oplus i_1x \\oplus ... \\oplus i_{k-1}x^{k-1}$$\n",
    "\n",
    "**Non-systematic** codeword generation:\n",
    "\n",
    "* Codeword = $i(x) \\cdot g(x)$\n",
    "\n",
    "$$\\boxed{c(x) = i(x) \\cdot g(x)}$$\n",
    "\n",
    "**Systematic** codeword generation:\n",
    "\n",
    "$$\\boxed{c(x) = b(x) \\oplus x^{n-k}i(x)}$$\n",
    "\n",
    "where $b(x)$ is the remainder of dividing $x^{n-k} i(x)$ to $g(x)$:\n",
    "$$x^{n-k} i(x) = a(x) g(x) \\oplus b(x)$$\n",
    "\n",
    "* (Proof: at blackboard)"
   ]
  },
  {
   "cell_type": "markdown",
   "metadata": {
    "slideshow": {
     "slide_type": "slide"
    }
   },
   "source": [
    "### Proving the cyclic property\n",
    "\n",
    "We prove that any cyclic shift of a codeword is also a codeword.\n",
    "\n",
    "Proof: at whiteboard\n",
    "\n",
    "* Original codeword\n",
    "$$c_0c_1c_2...c_{n-1} \\rightarrow \\mathbf{c(x)} = c_0 \\oplus c_1x \\oplus ... \\oplus c_{n-1}x^{n-1}$$\n",
    "\n",
    "* Cyclic shift to the right by 1 position\n",
    "$$c_{n-1}c_0c_1...c_{n-2} \\rightarrow \\mathbf{c'(x)} = c_{n-1} \\oplus c_0x \\oplus ... \\oplus c_{n-2}x^{n-1}$$\n",
    "\n",
    "* Note that \n",
    "$$\\begin{split}\n",
    "\\mathbf{c'(x)} \n",
    "=& x \\cdot \\mathbf{c(x)} \\oplus c_{n-1}x^n \\oplus c_{n-1}\\\\\n",
    "=& x \\cdot \\mathbf{c(x)} \\oplus c_{n-1}(x^n \\oplus 1)\\\\\n",
    "\\end{split}$$\n",
    "\n",
    "Since $\\mathbf{c(x)}$ is a multiple of $g(x)$, so is $x \\cdot \\mathbf{c(x)}$. Also $(x^n \\oplus 1)$ is always a multiple of $g(x)$. It follows that their sum $\\mathbf{c'(x)}$ is a also a multiple of $g(x)$, which means it is a codeword.\n",
    "\n"
   ]
  },
  {
   "cell_type": "markdown",
   "metadata": {
    "slideshow": {
     "slide_type": "slide"
    }
   },
   "source": [
    "### Cyclic code encoder circuits\n",
    "\n",
    "* Coding = based on polynomial multiplications and divisions\n",
    "* Efficient circuits for multiplication / division exist, that can be used for systematic or non-systematic codeword generation (draw on blackboard)"
   ]
  },
  {
   "cell_type": "markdown",
   "metadata": {
    "slideshow": {
     "slide_type": "slide"
    }
   },
   "source": [
    "### Circuits for multiplication of binary polynomials\n",
    "\n",
    "![Circuits for polynomial multiplication](img/MultiplicationCircuits.png)"
   ]
  },
  {
   "cell_type": "markdown",
   "metadata": {
    "slideshow": {
     "slide_type": "slide"
    }
   },
   "source": [
    "### Operation of multiplication circuits\n",
    "\n",
    "- The input polynomial is applied at the input, 1 bit at a time, starting from highest degree\n",
    "- The output polynomial is obtained at the output, 1 bit at a time, starting from highest degree\n",
    "- Because output polynomial has larger degree, the circuit needs to operate a few more samples until the final result is obtained. During this time the input is 0.\n",
    "- Examples: at the whiteboard"
   ]
  },
  {
   "cell_type": "markdown",
   "metadata": {
    "slideshow": {
     "slide_type": "slide"
    }
   },
   "source": [
    "### Linear analysis of multiplication circuits\n",
    "\n",
    "- These circuits are **linear time-invariant systems** (remember Digital Signal Processing class?), because they are composed only of summations, multiplication by scalars, and delay blocks.\n",
    "- Therefore, using the Z transform approach (to come soon in Digital Signal Processing class), the output can be computed based on the graph of the system:\n",
    "    - Draw the graph of the system: cells become $z^{-1}$ blocks, everything else is the same\n",
    "    - Every $z^{-1}$ block means a delay of one, which is what a cell does\n",
    "    - Call the input polynomial is $\\mathbf{X(z)}$\n",
    "    - Call the output polynomial is $\\mathbf{Y(z)}$\n",
    "    - Every $z^{-1}$ block means multiplying with $z^{-1}$\n",
    "    - Compute the output $\\mathbf{Y(z)}$ based on $X(z)$, from the graph\n",
    "    \n",
    "We get:\n",
    "$$Y(z) = X(z) \\cdot G(z) \\cdot z^{-m},$$\n",
    "meaning that the **output polynomial  = input polynomial * g(x) polynomial, with a delay of $m$ bits (time samples)**.\n",
    "\n",
    "The delay of $m$ time samples is caused by the fact that the input polynomial has degree $(k-1)$, but the resulting polynomial has larger degree $(k-1) + m$, therefore we need to wait $m$ more time samples until we get the full result."
   ]
  },
  {
   "cell_type": "markdown",
   "metadata": {
    "slideshow": {
     "slide_type": "slide"
    }
   },
   "source": [
    "### Circuits for division binary polynomials\n",
    "\n",
    "![Circuits for polynomial division](img/DivisionCircuits.png)"
   ]
  },
  {
   "cell_type": "markdown",
   "metadata": {
    "slideshow": {
     "slide_type": "slide"
    }
   },
   "source": [
    "### Operation of division circuits\n",
    "\n",
    "- The input polynomial is applied at the input, 1 bit at a time, starting from highest degree\n",
    "- The output polynomial is obtained at the output, 1 bit at a time, starting from highest degree\n",
    "- Because output polynomial has smaller degree, the circuit first outputs some zero values, until starting to output the result.\n",
    "- Examples: at the whiteboard"
   ]
  },
  {
   "cell_type": "markdown",
   "metadata": {
    "slideshow": {
     "slide_type": "slide"
    }
   },
   "source": [
    "### Linear analysis of division circuits\n",
    "\n",
    "- These circuits are also **linear time-invariant systems**, because they are composed only of summations, multiplication by scalars, and delay blocks.\n",
    "- Therefore, using the Z transform approach, the output can be computed based on the graph of the system:\n",
    "    - Draw the graph of the system: cells become $z^{-1}$ blocks, everything else is the same\n",
    "    - Every $z^{-1}$ block means a delay of one, which is what a cell does\n",
    "    - Call the input polynomial is $\\mathbf{X(z)}$\n",
    "    - Call the output polynomial is $\\mathbf{Y(z)}$\n",
    "    - Every $z^{-1}$ block means multiplying with $z^{-1}$\n",
    "    - Compute the output $\\mathbf{Y(z)}$ based on $X(z)$, from the graph\n",
    "    \n",
    "We get:\n",
    "$$Y(z) = \\frac{X(z)}{G(z)}$$\n",
    "meaning that the **output polynomial  = input polynomial / g(x) polynomial**."
   ]
  },
  {
   "cell_type": "markdown",
   "metadata": {
    "slideshow": {
     "slide_type": "slide"
    }
   },
   "source": [
    "### Linear-Feedback Shift Registers (LFSR)"
   ]
  },
  {
   "cell_type": "markdown",
   "metadata": {
    "slideshow": {
     "slide_type": "slide"
    }
   },
   "source": [
    "### Error detection with cyclic codes\n",
    "\n",
    "* Like usual for linear codes: check if received word is codeword or not\n",
    "\n",
    "* Every codeword is multiple of $g(x)$\n",
    "\n",
    "* Check if received word is actually dividing with $g(x)$\n",
    "    * Use a circuit for division of polynomials\n",
    "    \n",
    "* If remainder is 0 => it is a codeword, no error\n",
    "\n",
    "* If remainder is non-0 => error detected!\n",
    "\n",
    "* Cyclic codes have very good error detection capabilities"
   ]
  },
  {
   "cell_type": "markdown",
   "metadata": {
    "slideshow": {
     "slide_type": "slide"
    }
   },
   "source": [
    "### Error correction capability\n",
    "\n",
    "**Theorem**:\n",
    "\n",
    "Any (n,k) cyclic codes is capable of detecting any error **burst** of length $n-k$ or less.\n",
    "\n",
    "* A large fraction of longer bursts can also be detected (but not all)\n",
    "\n",
    "* For non-burst errors (random): more difficult to analyze"
   ]
  },
  {
   "cell_type": "markdown",
   "metadata": {
    "slideshow": {
     "slide_type": "slide"
    }
   },
   "source": [
    "### Error correction with cyclic codes\n",
    "\n",
    "* Like usual for linear codes: lookup table based on remainder\n",
    "\n",
    "* Remainder of division = the effect of the error polynomial\n",
    "\n",
    "* Create lookup table: for every error word, compute remainder\n",
    "\n",
    "* Search the table for the remainder of the received word => find error word"
   ]
  },
  {
   "cell_type": "markdown",
   "metadata": {
    "slideshow": {
     "slide_type": "slide"
    }
   },
   "source": [
    "### Summary of cyclic codes\n",
    "\n",
    "* Generated using a generator polynomial $g(x)$\n",
    "* Non-systematic:\n",
    "$$c(x) = i(x) \\cdot g(x)$$\n",
    "* Systematic:\n",
    "$$c(x) = b(x) \\oplus X^{n-k}i(x)$$\n",
    "    *  $b(x)$ is the remainder of dividing $X^{n-k} i(x)$ to $g(x)$\n",
    "* Syndrome = remainder of division $r(x)$ to $g(x)$\n",
    "* Error detection: remainder (syndrome) non-zero\n",
    "* Error correction: lookup table"
   ]
  }
 ],
 "metadata": {
  "celltoolbar": "Slideshow",
  "kernelspec": {
   "display_name": "Python 2",
   "language": "python",
   "name": "python2"
  },
  "language_info": {
   "codemirror_mode": {
    "name": "ipython",
    "version": 2
   },
   "file_extension": ".py",
   "mimetype": "text/x-python",
   "name": "python",
   "nbconvert_exporter": "python",
   "pygments_lexer": "ipython2",
   "version": "2.7.11"
  },
  "latex_envs": {
   "bibliofile": "biblio.bib",
   "cite_by": "apalike",
   "current_citInitial": 1,
   "eqLabelWithNumbers": true,
   "eqNumInitial": 0
  },
  "livereveal": {
   "scroll": true,
   "start_slideshow_at": "selected",
   "theme": "serif",
   "transition": "none",
   "transitionSpeed": "fast"
  }
 },
 "nbformat": 4,
 "nbformat_minor": 0
}
