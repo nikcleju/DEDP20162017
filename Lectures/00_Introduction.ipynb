{
 "cells": [
  {
   "cell_type": "markdown",
   "metadata": {
    "slideshow": {
     "slide_type": "slide"
    }
   },
   "source": [
    "# Decision and Estimation in Data Processing 2016-2017"
   ]
  },
  {
   "cell_type": "markdown",
   "metadata": {
    "slideshow": {
     "slide_type": "slide"
    }
   },
   "source": [
    "Organization\n",
    "\n",
    "* Lectures: Nicolae Cleju\n",
    "* Laboratories: Nicolae Cleju\n",
    "\n",
    "Grades: Final grade = 0.6 Exam + 0.2 Lab + 0.2 Homeworks/Seminar\n",
    "\n",
    "Time schedule\n",
    "* 14 weeks of lectures (2h each)\n",
    "* 14 weeks of laboratories / seminars (2h each), alternatively\n",
    "* Office hours: by appointment"
   ]
  },
  {
   "cell_type": "markdown",
   "metadata": {
    "slideshow": {
     "slide_type": "slide"
    }
   },
   "source": [
    "\n",
    "### Bibliography\n",
    "\n",
    "1. ***Teoria transmisiunii informatiei*, Valeriu Munteanu, Ed. \"Gh.Asachi\", 2001 (Romanian)**\n",
    "1. *Elements of Information Theory*, Valeriu Munteanu, Daniela Tarniceriu, Ed. CERMI 2007\n",
    "1. *Elements of Information Theory*, Thomas M. Cover, Joy A. Thomas, 2nd Edition, Wiley 2006\n",
    "1. *Information and Coding Theory*, Gareth A. Jones, J. Mary Jones, Springer 2000\n",
    "1. *Decizie si estimare in prelucrarea informatiei* (Romanian), lectures at ETTI\n"
   ]
  }
 ],
 "metadata": {
  "celltoolbar": "Slideshow",
  "kernelspec": {
   "display_name": "Python 2",
   "language": "python",
   "name": "python2"
  },
  "language_info": {
   "codemirror_mode": {
    "name": "ipython",
    "version": 2
   },
   "file_extension": ".py",
   "mimetype": "text/x-python",
   "name": "python",
   "nbconvert_exporter": "python",
   "pygments_lexer": "ipython2",
   "version": "2.7.10"
  },
  "livereveal": {
   "scroll": true,
   "start_slideshow_at": "selected",
   "theme": "serif",
   "transition": "none",
   "transitionSpeed": "fast"
  }
 },
 "nbformat": 4,
 "nbformat_minor": 0
}
